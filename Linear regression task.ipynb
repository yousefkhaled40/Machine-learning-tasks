{
 "cells": [
  {
   "cell_type": "code",
   "execution_count": 1,
   "id": "f3a4e775",
   "metadata": {},
   "outputs": [],
   "source": [
    "import pandas as pd\n",
    "import numpy as np\n",
    "import matplotlib.pyplot as plt\n",
    "import seaborn as sns"
   ]
  },
  {
   "cell_type": "code",
   "execution_count": 2,
   "id": "be042b8a",
   "metadata": {},
   "outputs": [],
   "source": [
    "#there is no header in the data so I set the heder argument to None\n",
    "df = pd.read_csv(\"data.txt\", header=None)"
   ]
  },
  {
   "cell_type": "code",
   "execution_count": 3,
   "id": "95f8085f",
   "metadata": {},
   "outputs": [
    {
     "data": {
      "text/html": [
       "<div>\n",
       "<style scoped>\n",
       "    .dataframe tbody tr th:only-of-type {\n",
       "        vertical-align: middle;\n",
       "    }\n",
       "\n",
       "    .dataframe tbody tr th {\n",
       "        vertical-align: top;\n",
       "    }\n",
       "\n",
       "    .dataframe thead th {\n",
       "        text-align: right;\n",
       "    }\n",
       "</style>\n",
       "<table border=\"1\" class=\"dataframe\">\n",
       "  <thead>\n",
       "    <tr style=\"text-align: right;\">\n",
       "      <th></th>\n",
       "      <th>population</th>\n",
       "      <th>profit</th>\n",
       "    </tr>\n",
       "  </thead>\n",
       "  <tbody>\n",
       "    <tr>\n",
       "      <th>0</th>\n",
       "      <td>6.1101</td>\n",
       "      <td>17.5920</td>\n",
       "    </tr>\n",
       "    <tr>\n",
       "      <th>1</th>\n",
       "      <td>5.5277</td>\n",
       "      <td>9.1302</td>\n",
       "    </tr>\n",
       "    <tr>\n",
       "      <th>2</th>\n",
       "      <td>8.5186</td>\n",
       "      <td>13.6620</td>\n",
       "    </tr>\n",
       "    <tr>\n",
       "      <th>3</th>\n",
       "      <td>7.0032</td>\n",
       "      <td>11.8540</td>\n",
       "    </tr>\n",
       "    <tr>\n",
       "      <th>4</th>\n",
       "      <td>5.8598</td>\n",
       "      <td>6.8233</td>\n",
       "    </tr>\n",
       "  </tbody>\n",
       "</table>\n",
       "</div>"
      ],
      "text/plain": [
       "   population   profit\n",
       "0      6.1101  17.5920\n",
       "1      5.5277   9.1302\n",
       "2      8.5186  13.6620\n",
       "3      7.0032  11.8540\n",
       "4      5.8598   6.8233"
      ]
     },
     "execution_count": 3,
     "metadata": {},
     "output_type": "execute_result"
    }
   ],
   "source": [
    "#renaming the columns\n",
    "df.rename(columns={0:\"population\", 1:\"profit\"}, inplace=True)\n",
    "df.head()"
   ]
  },
  {
   "cell_type": "code",
   "execution_count": 4,
   "id": "3f67b07a",
   "metadata": {},
   "outputs": [
    {
     "data": {
      "image/png": "[encoded data removed]",
      "text/plain": [
       "<Figure size 640x480 with 1 Axes>"
      ]
     },
     "metadata": {},
     "output_type": "display_data"
    }
   ],
   "source": [
    "#plotting the data\n",
    "plt.scatter(df[\"population\"], df[\"profit\"])\n",
    "plt.show()"
   ]
  },
  {
   "cell_type": "code",
   "execution_count": 5,
   "id": "7d1399f7",
   "metadata": {
    "scrolled": true
   },
   "outputs": [
    {
     "data": {
      "text/plain": [
       "population    0\n",
       "profit        0\n",
       "dtype: int64"
      ]
     },
     "execution_count": 5,
     "metadata": {},
     "output_type": "execute_result"
    }
   ],
   "source": [
    "#no null values\n",
    "df.isna().sum()"
   ]
  },
  {
   "cell_type": "code",
   "execution_count": 6,
   "id": "46d3d34b",
   "metadata": {},
   "outputs": [
    {
     "data": {
      "text/html": [
       "<div>\n",
       "<style scoped>\n",
       "    .dataframe tbody tr th:only-of-type {\n",
       "        vertical-align: middle;\n",
       "    }\n",
       "\n",
       "    .dataframe tbody tr th {\n",
       "        vertical-align: top;\n",
       "    }\n",
       "\n",
       "    .dataframe thead th {\n",
       "        text-align: right;\n",
       "    }\n",
       "</style>\n",
       "<table border=\"1\" class=\"dataframe\">\n",
       "  <thead>\n",
       "    <tr style=\"text-align: right;\">\n",
       "      <th></th>\n",
       "      <th>population</th>\n",
       "      <th>profit</th>\n",
       "    </tr>\n",
       "  </thead>\n",
       "  <tbody>\n",
       "    <tr>\n",
       "      <th>count</th>\n",
       "      <td>97.000000</td>\n",
       "      <td>97.000000</td>\n",
       "    </tr>\n",
       "    <tr>\n",
       "      <th>mean</th>\n",
       "      <td>8.159800</td>\n",
       "      <td>5.839135</td>\n",
       "    </tr>\n",
       "    <tr>\n",
       "      <th>std</th>\n",
       "      <td>3.869884</td>\n",
       "      <td>5.510262</td>\n",
       "    </tr>\n",
       "    <tr>\n",
       "      <th>min</th>\n",
       "      <td>5.026900</td>\n",
       "      <td>-2.680700</td>\n",
       "    </tr>\n",
       "    <tr>\n",
       "      <th>25%</th>\n",
       "      <td>5.707700</td>\n",
       "      <td>1.986900</td>\n",
       "    </tr>\n",
       "    <tr>\n",
       "      <th>50%</th>\n",
       "      <td>6.589400</td>\n",
       "      <td>4.562300</td>\n",
       "    </tr>\n",
       "    <tr>\n",
       "      <th>75%</th>\n",
       "      <td>8.578100</td>\n",
       "      <td>7.046700</td>\n",
       "    </tr>\n",
       "    <tr>\n",
       "      <th>max</th>\n",
       "      <td>22.203000</td>\n",
       "      <td>24.147000</td>\n",
       "    </tr>\n",
       "  </tbody>\n",
       "</table>\n",
       "</div>"
      ],
      "text/plain": [
       "       population     profit\n",
       "count   97.000000  97.000000\n",
       "mean     8.159800   5.839135\n",
       "std      3.869884   5.510262\n",
       "min      5.026900  -2.680700\n",
       "25%      5.707700   1.986900\n",
       "50%      6.589400   4.562300\n",
       "75%      8.578100   7.046700\n",
       "max     22.203000  24.147000"
      ]
     },
     "execution_count": 6,
     "metadata": {},
     "output_type": "execute_result"
    }
   ],
   "source": [
    "#no outliers\n",
    "#all values are ok\n",
    "df.describe()"
   ]
  },
  {
   "cell_type": "markdown",
   "id": "dae6a8e0",
   "metadata": {},
   "source": [
    "# Our data is now clean and ready for the model"
   ]
  },
  {
   "cell_type": "code",
   "execution_count": 7,
   "id": "48afb386",
   "metadata": {},
   "outputs": [],
   "source": [
    "#function to compute the gradient for linear regression\n",
    "def compute_gradient(x, y, w, b):\n",
    "    \n",
    "    \"\"\"\n",
    "    x: feature values\n",
    "    y: target values\n",
    "    w, b: parameters\n",
    "    \"\"\"\n",
    "    \n",
    "    dj_dw = 0\n",
    "    dj_db = 0\n",
    "    m = x.shape[0] #size of the data\n",
    "    \n",
    "    for i in range(m):\n",
    "        f_wb = w*x[i] + b\n",
    "        dj_dw += ((f_wb-y[i])*x[i])\n",
    "        dj_db += (f_wb-y[i])\n",
    "        \n",
    "    dj_dw /= m\n",
    "    dj_db /= m\n",
    "    \n",
    "    return dj_dw, dj_db"
   ]
  },
  {
   "cell_type": "code",
   "execution_count": 8,
   "id": "d411f44f",
   "metadata": {},
   "outputs": [],
   "source": [
    "#function that Performs gradient descent to fit w,b\n",
    "def gradient_descent(x, y, w, b, alpha, num_iter, gradient_function):\n",
    "    \n",
    "    \"\"\"\n",
    "    x: feature values\n",
    "    y: target values\n",
    "    w, b: parameters\n",
    "    alpha: learning rate\n",
    "    num_iter: number of iterations to get the local minima for our parameters\n",
    "    gradient_function: our previous function that computes the gradient for the linear regression\n",
    "    \"\"\"\n",
    "    \n",
    "    for i in range(num_iter):\n",
    "        dj_dw, dj_db = gradient_function(x, y, w, b)\n",
    "        w = w - alpha*dj_dw\n",
    "        b = b - alpha*dj_db   \n",
    "    \n",
    "    return w, b"
   ]
  },
  {
   "cell_type": "code",
   "execution_count": 9,
   "id": "23358970",
   "metadata": {},
   "outputs": [],
   "source": [
    "x_train = np.array(df[\"population\"])\n",
    "y_train = np.array(df[\"profit\"])"
   ]
  },
  {
   "cell_type": "code",
   "execution_count": 10,
   "id": "d44ed477",
   "metadata": {},
   "outputs": [],
   "source": [
    "#our local minima values for the parameters\n",
    "w_final, b_final = gradient_descent(x_train, y_train, 0, 0, 0.01, 10000, compute_gradient)"
   ]
  },
  {
   "cell_type": "code",
   "execution_count": 11,
   "id": "bb468be1",
   "metadata": {},
   "outputs": [
    {
     "name": "stdout",
     "output_type": "stream",
     "text": [
      "1.1930336383584828 -3.895780820268237\n"
     ]
    }
   ],
   "source": [
    "#values of w and b\n",
    "print(w_final, b_final)"
   ]
  },
  {
   "cell_type": "code",
   "execution_count": 12,
   "id": "3a1c7269",
   "metadata": {},
   "outputs": [
    {
     "data": {
      "image/png": "[encoded data removed]",
      "text/plain": [
       "<Figure size 640x480 with 1 Axes>"
      ]
     },
     "metadata": {},
     "output_type": "display_data"
    }
   ],
   "source": [
    "#plotting our model regarding to our data\n",
    "plt.scatter(df[\"population\"], df[\"profit\"])\n",
    "plt.plot(df[\"population\"], (df[\"population\"]*w_final+b_final), c=\"orange\")\n",
    "plt.show()"
   ]
  },
  {
   "cell_type": "code",
   "execution_count": 13,
   "id": "1a9e238b",
   "metadata": {},
   "outputs": [],
   "source": [
    "#fucntion to compute any new data\n",
    "def compute_profit(x_i, w, b):\n",
    "    return (x_i*w + b)"
   ]
  },
  {
   "cell_type": "code",
   "execution_count": 14,
   "id": "15f31d04",
   "metadata": {},
   "outputs": [
    {
     "data": {
      "text/plain": [
       "41752.281561726624"
      ]
     },
     "execution_count": 14,
     "metadata": {},
     "output_type": "execute_result"
    }
   ],
   "source": [
    "#example 1. population=35000\n",
    "compute_profit(35000, w_final, b_final)"
   ]
  },
  {
   "cell_type": "code",
   "execution_count": 15,
   "id": "f9788b22",
   "metadata": {},
   "outputs": [
    {
     "data": {
      "text/plain": [
       "83508.45890427352"
      ]
     },
     "execution_count": 15,
     "metadata": {},
     "output_type": "execute_result"
    }
   ],
   "source": [
    "#example 2. population=70000\n",
    "compute_profit(70000, w_final, b_final)"
   ]
  },
  {
   "cell_type": "markdown",
   "id": "b6925ccb",
   "metadata": {},
   "source": [
    "# Bonus section\n",
    "using normal equation as follow:"
   ]
  },
  {
   "attachments": {
    "image.png": {
     "image/png": "[encoded data removed]"
    }
   },
   "cell_type": "markdown",
   "id": "8f4c95f4",
   "metadata": {},
   "source": [
    "![image.png](attachment:image.png)"
   ]
  },
  {
   "cell_type": "code",
   "execution_count": null,
   "id": "2b8e6241",
   "metadata": {},
   "outputs": [],
   "source": []
  }
 ],
 "metadata": {
  "kernelspec": {
   "display_name": "Python 3 (ipykernel)",
   "language": "python",
   "name": "python3"
  },
  "language_info": {
   "codemirror_mode": {
    "name": "ipython",
    "version": 3
   },
   "file_extension": ".py",
   "mimetype": "text/x-python",
   "name": "python",
   "nbconvert_exporter": "python",
   "pygments_lexer": "ipython3",
   "version": "3.9.16"
  }
 },
 "nbformat": 4,
 "nbformat_minor": 5
}
